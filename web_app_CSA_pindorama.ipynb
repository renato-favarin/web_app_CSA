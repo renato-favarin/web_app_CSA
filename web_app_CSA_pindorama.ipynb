{
 "cells": [
  {
   "cell_type": "markdown",
   "id": "e3bc287b-d683-41f8-a9c5-af6a78c169b0",
   "metadata": {},
   "source": [
    "# 0. Imports"
   ]
  },
  {
   "cell_type": "code",
   "execution_count": 1,
   "id": "ee8631c5-64e7-4c9d-bc48-22fb8cf378a1",
   "metadata": {
    "execution": {
     "iopub.execute_input": "2021-05-19T01:31:52.916913Z",
     "iopub.status.busy": "2021-05-19T01:31:52.915913Z",
     "iopub.status.idle": "2021-05-19T01:31:58.766913Z",
     "shell.execute_reply": "2021-05-19T01:31:58.765913Z",
     "shell.execute_reply.started": "2021-05-19T01:31:52.916913Z"
    },
    "tags": []
   },
   "outputs": [],
   "source": [
    "import pandas as pd\n",
    "import numpy as np\n",
    "import seaborn as sns\n",
    "import matplotlib.pyplot as plt"
   ]
  },
  {
   "cell_type": "markdown",
   "id": "d29adf80-d1bd-40ea-97e0-02343a107175",
   "metadata": {},
   "source": [
    "# 1. Base de dados"
   ]
  },
  {
   "cell_type": "code",
   "execution_count": 2,
   "id": "3bf4885f-ee98-4e31-aabc-7a0e12386175",
   "metadata": {
    "execution": {
     "iopub.execute_input": "2021-05-19T01:32:00.075913Z",
     "iopub.status.busy": "2021-05-19T01:32:00.075913Z",
     "iopub.status.idle": "2021-05-19T01:32:00.099913Z",
     "shell.execute_reply": "2021-05-19T01:32:00.096913Z",
     "shell.execute_reply.started": "2021-05-19T01:32:00.075913Z"
    },
    "tags": []
   },
   "outputs": [],
   "source": [
    "caminho = \"data/nutrients_csvfile.csv\"\n",
    "dados_nutricao = pd.read_csv(caminho, decimal=\",\")\n",
    "dados_nutricao = dados_nutricao.replace('t', 0)"
   ]
  },
  {
   "cell_type": "markdown",
   "id": "961c8413-45ca-4240-a9b5-1f3ec2200f71",
   "metadata": {},
   "source": [
    "# 2. Tratamento dos dados"
   ]
  },
  {
   "cell_type": "code",
   "execution_count": 3,
   "id": "62328afe-5399-4cae-87df-9694c69cf31c",
   "metadata": {
    "execution": {
     "iopub.execute_input": "2021-05-19T01:32:04.745913Z",
     "iopub.status.busy": "2021-05-19T01:32:04.745913Z",
     "iopub.status.idle": "2021-05-19T01:32:04.766913Z",
     "shell.execute_reply": "2021-05-19T01:32:04.765913Z",
     "shell.execute_reply.started": "2021-05-19T01:32:04.745913Z"
    },
    "tags": []
   },
   "outputs": [],
   "source": [
    "dados_nutricao[\"Protein\"] = dados_nutricao[\"Protein\"].replace(\"-1\",\"0\", regex=True)\n",
    "dados_nutricao[\"Protein\"] = dados_nutricao[\"Protein\"].astype(float)\n",
    "\n",
    "# dropar linhas erradas\n",
    "dados_nutricao.drop(205, inplace=True)\n",
    "dados_nutricao.drop(82, inplace=True)\n",
    "\n",
    "# coluna calorias (Calories)\n",
    "dados_nutricao[\"Calories\"] = dados_nutricao[\"Calories\"].str.replace(\",\",\".\",regex=True)\n",
    "# corrigindo as calorias das ervilhas\n",
    "dados_nutricao.loc[134, \"Calories\"] = '36.4'\n",
    "# considerando o máximo da faixa de calories das alcachofras\n",
    "dados_nutricao.loc[91, \"Calories\"] = '44'\n",
    "dados_nutricao[\"Calories\"] = dados_nutricao[\"Calories\"].astype(float)\n",
    "\n",
    "#coluna gordura (Fat)\n",
    "dados_nutricao[\"Fat\"] = dados_nutricao[\"Fat\"].astype(float)\n",
    "\n",
    "# coluna gordura saturada (Sat.Fat)\n",
    "# corrigindo a gordura saturada da carne de porco\n",
    "dados_nutricao.loc[42, \"Sat.Fat\"] = '18.6'\n",
    "# corrigindo a gordura saturada da beterraba\n",
    "dados_nutricao.loc[100, \"Sat.Fat\"] = '0'\n",
    "dados_nutricao[\"Sat.Fat\"] = dados_nutricao[\"Sat.Fat\"].astype(float)\n",
    "\n",
    "# coluna fibra (Fiber)\n",
    "# corrigindo o valor da fibra do peixe \"cavalinha\" \n",
    "dados_nutricao.loc[81, \"Fiber\"] = '0'\n",
    "dados_nutricao[\"Fiber\"] = dados_nutricao[\"Fiber\"].astype(float)\n",
    "\n",
    "#coluna carboidrato (Carbs)\n",
    "dados_nutricao[\"Carbs\"] = dados_nutricao[\"Carbs\"].astype(float)\n",
    "\n",
    "# dropar coluna \"Measure\" (a coluna gramas permite uma comparação melhor)\n",
    "dados_nutricao.drop(\"Measure\", axis = 1, inplace=True)"
   ]
  },
  {
   "cell_type": "markdown",
   "id": "af38ab01-3d05-4647-a4d9-d7b9155b3bce",
   "metadata": {},
   "source": [
    "# 3. Gráfico comparativo"
   ]
  },
  {
   "cell_type": "code",
   "execution_count": 4,
   "id": "4e3404f8-7930-47b9-a4da-8d7a9ba5d075",
   "metadata": {
    "execution": {
     "iopub.execute_input": "2021-05-19T01:32:06.768913Z",
     "iopub.status.busy": "2021-05-19T01:32:06.767913Z",
     "iopub.status.idle": "2021-05-19T01:32:06.772913Z",
     "shell.execute_reply": "2021-05-19T01:32:06.772913Z",
     "shell.execute_reply.started": "2021-05-19T01:32:06.768913Z"
    },
    "tags": []
   },
   "outputs": [],
   "source": [
    "def grafico_comparativo(lista_alimentos, atributo):\n",
    "    df = dados_nutricao.set_index('Food')\n",
    "    df = df.loc[lista_alimentos]\n",
    "    plt.figure(figsize = (8,6))\n",
    "    plt.title(f\"Comparação de {atributo}\")\n",
    "    sns.barplot(data = df, x = df.index, y = atributo)"
   ]
  },
  {
   "cell_type": "code",
   "execution_count": 5,
   "id": "68f321c3-9fd3-4c3e-b7e7-a7242194f145",
   "metadata": {
    "execution": {
     "iopub.execute_input": "2021-05-19T01:32:07.200913Z",
     "iopub.status.busy": "2021-05-19T01:32:07.200913Z",
     "iopub.status.idle": "2021-05-19T01:32:07.439913Z",
     "shell.execute_reply": "2021-05-19T01:32:07.439913Z",
     "shell.execute_reply.started": "2021-05-19T01:32:07.200913Z"
    },
    "tags": []
   },
   "outputs": [
    {
     "data": {
      "image/png": "[encoded data removed]",
      "text/plain": [
       "<Figure size 576x432 with 1 Axes>"
      ]
     },
     "metadata": {
      "needs_background": "light"
     },
     "output_type": "display_data"
    }
   ],
   "source": [
    "grafico_comparativo([\"Ginger ale\", \"Coffee\"], \"Calories\")"
   ]
  },
  {
   "cell_type": "code",
   "execution_count": 6,
   "id": "26f984c6-8ec3-4c4b-a1c3-bfc42b981a4a",
   "metadata": {
    "execution": {
     "iopub.execute_input": "2021-05-19T01:32:07.511913Z",
     "iopub.status.busy": "2021-05-19T01:32:07.511913Z",
     "iopub.status.idle": "2021-05-19T01:32:07.683913Z",
     "shell.execute_reply": "2021-05-19T01:32:07.683913Z",
     "shell.execute_reply.started": "2021-05-19T01:32:07.511913Z"
    },
    "tags": []
   },
   "outputs": [
    {
     "data": {
      "image/png": "[encoded data removed]",
      "text/plain": [
       "<Figure size 576x432 with 1 Axes>"
      ]
     },
     "metadata": {
      "needs_background": "light"
     },
     "output_type": "display_data"
    }
   ],
   "source": [
    "grafico_comparativo([\"Milk skim\", \"Fortified milk\", \"Ice cream\"], \"Protein\")"
   ]
  },
  {
   "cell_type": "code",
   "execution_count": 7,
   "id": "d70d0f74-d4fc-42bc-9563-447d7c9a4047",
   "metadata": {
    "execution": {
     "iopub.execute_input": "2021-05-19T01:58:13.646913Z",
     "iopub.status.busy": "2021-05-19T01:58:13.646913Z",
     "iopub.status.idle": "2021-05-19T01:58:14.715913Z",
     "shell.execute_reply": "2021-05-19T01:58:14.715913Z",
     "shell.execute_reply.started": "2021-05-19T01:58:13.646913Z"
    },
    "tags": []
   },
   "outputs": [],
   "source": [
    "import streamlit as st\n",
    "st.selectbox(\"Escolha entre proteína e carboidrato\",\n",
    "            prot_carb)"
   ]
  },
  {
   "cell_type": "code",
   "execution_count": 12,
   "id": "1581b182-2454-4c15-ad7e-1d2367ec0a1e",
   "metadata": {
    "execution": {
     "iopub.execute_input": "2021-05-19T02:02:53.760913Z",
     "iopub.status.busy": "2021-05-19T02:02:53.760913Z",
     "iopub.status.idle": "2021-05-19T02:02:53.765913Z",
     "shell.execute_reply": "2021-05-19T02:02:53.765913Z",
     "shell.execute_reply.started": "2021-05-19T02:02:53.760913Z"
    },
    "tags": []
   },
   "outputs": [
    {
     "data": {
      "text/plain": [
       "Index(['Calories', 'Protein', 'Fat', 'Sat.Fat', 'Fiber', 'Carbs'], dtype='object')"
      ]
     },
     "execution_count": 12,
     "metadata": {},
     "output_type": "execute_result"
    }
   ],
   "source": [
    "dados_nutricao.columns[2:-1]"
   ]
  },
  {
   "cell_type": "code",
   "execution_count": 11,
   "id": "c11dafe8-0fbb-44c3-8853-3661a0d20db2",
   "metadata": {
    "execution": {
     "iopub.execute_input": "2021-05-19T02:02:47.440913Z",
     "iopub.status.busy": "2021-05-19T02:02:47.440913Z",
     "iopub.status.idle": "2021-05-19T02:02:47.445913Z",
     "shell.execute_reply": "2021-05-19T02:02:47.444913Z",
     "shell.execute_reply.started": "2021-05-19T02:02:47.440913Z"
    }
   },
   "outputs": [
    {
     "data": {
      "text/plain": [
       "Index(['Food', 'Grams', 'Calories', 'Protein', 'Fat', 'Sat.Fat', 'Fiber',\n",
       "       'Carbs', 'Category'],\n",
       "      dtype='object')"
      ]
     },
     "execution_count": 11,
     "metadata": {},
     "output_type": "execute_result"
    }
   ],
   "source": [
    "dados_nutricao.columns"
   ]
  },
  {
   "cell_type": "code",
   "execution_count": null,
   "id": "aba6350c-302b-40e7-9484-0f6e76423e3f",
   "metadata": {},
   "outputs": [],
   "source": [
    "np.append()"
   ]
  }
 ],
 "metadata": {
  "kernelspec": {
   "display_name": "Python 3",
   "language": "python",
   "name": "python3"
  },
  "language_info": {
   "codemirror_mode": {
    "name": "ipython",
    "version": 3
   },
   "file_extension": ".py",
   "mimetype": "text/x-python",
   "name": "python",
   "nbconvert_exporter": "python",
   "pygments_lexer": "ipython3",
   "version": "3.7.10"
  },
  "toc-autonumbering": false,
  "toc-showmarkdowntxt": false
 },
 "nbformat": 4,
 "nbformat_minor": 5
}
