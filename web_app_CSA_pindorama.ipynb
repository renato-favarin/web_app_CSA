{
 "cells": [
  {
   "cell_type": "markdown",
   "id": "e3bc287b-d683-41f8-a9c5-af6a78c169b0",
   "metadata": {},
   "source": [
    "# 0. Imports"
   ]
  },
  {
   "cell_type": "code",
   "execution_count": 3,
   "id": "ee8631c5-64e7-4c9d-bc48-22fb8cf378a1",
   "metadata": {
    "execution": {
     "iopub.execute_input": "2021-06-29T23:36:45.490078Z",
     "iopub.status.busy": "2021-06-29T23:36:45.489075Z",
     "iopub.status.idle": "2021-06-29T23:36:57.049053Z",
     "shell.execute_reply": "2021-06-29T23:36:57.049053Z",
     "shell.execute_reply.started": "2021-06-29T23:36:45.490078Z"
    },
    "tags": []
   },
   "outputs": [],
   "source": [
    "import pandas as pd\n",
    "import numpy as np\n",
    "import seaborn as sns\n",
    "import matplotlib.pyplot as plt"
   ]
  },
  {
   "cell_type": "markdown",
   "id": "d29adf80-d1bd-40ea-97e0-02343a107175",
   "metadata": {},
   "source": [
    "# 1. Funções"
   ]
  },
  {
   "cell_type": "code",
   "execution_count": 4,
   "id": "9f38a6ed-5a97-41fa-a1d1-deed2a0a1e85",
   "metadata": {
    "execution": {
     "iopub.execute_input": "2021-06-29T23:36:57.051058Z",
     "iopub.status.busy": "2021-06-29T23:36:57.050056Z",
     "iopub.status.idle": "2021-06-29T23:36:57.061084Z",
     "shell.execute_reply": "2021-06-29T23:36:57.060082Z",
     "shell.execute_reply.started": "2021-06-29T23:36:57.051058Z"
    },
    "tags": []
   },
   "outputs": [],
   "source": [
    "def carrega_dados(caminho, aba, ignora_primeira_linha_coluna = False):\n",
    "    if ignora_primeira_linha_coluna == True:\n",
    "        dados = pd.read_excel(caminho, sheet_name = aba, skiprows = [0])\n",
    "        if dados.shape[0] != 0:\n",
    "            dic_mes = {'1': 'jan', '2': 'fev', '3': 'mar', '4': 'abr', '5': 'may','6': 'jun',\n",
    "                   '7': 'jul', '8': 'ago', '9': 'set', '10': 'out', '11': 'nov', '12': 'dez'}\n",
    "            dia = dados[\"Unnamed: 0\"].dt.day\n",
    "            mes = dados[\"Unnamed: 0\"].dt.month\n",
    "            dados[\"Unnamed: 0\"] = dados[\"Unnamed: 0\"].dt.day.map(str) + \"/\" + dados[\"Unnamed: 0\"].dt.month.map(str).apply(lambda x: dic_mes[x])\n",
    "            dados = dados.set_index(\"Unnamed: 0\")                \n",
    "    else:\n",
    "        dados = pd.read_excel(caminho, sheet_name = aba)\n",
    "        \n",
    "    return dados\n",
    "\n",
    "\n",
    "def grafico_comparativo(lista_alimentos, atributo):\n",
    "    df = dados_nutricao.set_index('alimento')\n",
    "    df = df.loc[lista_alimentos]\n",
    "    plt.figure(figsize = (8,6))\n",
    "    plt.title(f\"Comparação de {atributo}\")\n",
    "    sns.barplot(data = df, x = df.index, y = atributo)\n",
    "\n",
    "\n",
    "\n",
    "\n",
    "\n"
   ]
  },
  {
   "cell_type": "markdown",
   "id": "961c8413-45ca-4240-a9b5-1f3ec2200f71",
   "metadata": {},
   "source": [
    "# 2. Base de dados"
   ]
  },
  {
   "cell_type": "code",
   "execution_count": 19,
   "id": "0019c44d-5b87-467a-94a9-1ddf1d9083f0",
   "metadata": {
    "execution": {
     "iopub.execute_input": "2021-06-30T00:12:35.125000Z",
     "iopub.status.busy": "2021-06-30T00:12:35.125000Z",
     "iopub.status.idle": "2021-06-30T00:12:35.192000Z",
     "shell.execute_reply": "2021-06-30T00:12:35.191000Z",
     "shell.execute_reply.started": "2021-06-30T00:12:35.125000Z"
    },
    "tags": []
   },
   "outputs": [
    {
     "data": {
      "text/plain": [
       "(1, 2)"
      ]
     },
     "execution_count": 19,
     "metadata": {},
     "output_type": "execute_result"
    }
   ],
   "source": [
    "caminho_dados_csa = \"data/csa_pindorama.xlsx\"\n",
    "dados_busca_cesta = carrega_dados(caminho_dados_csa, 'mutiroes', True)\n",
    "dados_busca_cesta.shape\n"
   ]
  },
  {
   "cell_type": "markdown",
   "id": "af38ab01-3d05-4647-a4d9-d7b9155b3bce",
   "metadata": {},
   "source": [
    "# 3. Testes de gráfico comparativo"
   ]
  },
  {
   "cell_type": "code",
   "execution_count": 13,
   "id": "68f321c3-9fd3-4c3e-b7e7-a7242194f145",
   "metadata": {
    "execution": {
     "iopub.execute_input": "2021-06-29T23:38:52.201674Z",
     "iopub.status.busy": "2021-06-29T23:38:52.201674Z",
     "iopub.status.idle": "2021-06-29T23:38:52.520500Z",
     "shell.execute_reply": "2021-06-29T23:38:52.519498Z",
     "shell.execute_reply.started": "2021-06-29T23:38:52.201674Z"
    },
    "tags": []
   },
   "outputs": [
    {
     "data": {
      "image/png": "[encoded data removed]",
      "text/plain": [
       "<Figure size 432x288 with 1 Axes>"
      ]
     },
     "metadata": {
      "needs_background": "light"
     },
     "output_type": "display_data"
    }
   ],
   "source": [
    "dados_nutricao = carrega_dados(caminho_dados_csa,'info_nutricional')\n",
    "grafico_comparativo(dados_nutricao,[\"agrião\", \"alecrim\"], \"calorias (kcal)\")"
   ]
  },
  {
   "cell_type": "code",
   "execution_count": 14,
   "id": "5534a185-3e9e-45d9-a778-609c173a0c51",
   "metadata": {
    "execution": {
     "iopub.execute_input": "2021-06-29T23:38:56.151918Z",
     "iopub.status.busy": "2021-06-29T23:38:56.151918Z",
     "iopub.status.idle": "2021-06-29T23:38:56.420614Z",
     "shell.execute_reply": "2021-06-29T23:38:56.420614Z",
     "shell.execute_reply.started": "2021-06-29T23:38:56.151918Z"
    },
    "tags": []
   },
   "outputs": [
    {
     "data": {
      "image/png": "[encoded data removed]",
      "text/plain": [
       "<Figure size 432x288 with 1 Axes>"
      ]
     },
     "metadata": {
      "needs_background": "light"
     },
     "output_type": "display_data"
    }
   ],
   "source": [
    "caminho_dados_csa = \"data/csa_pindorama.xlsx\"\n",
    "dados_nutricao = pd.read_excel(caminho_dados_csa, engine='openpyxl',sheet_name='info_nutricional')\n",
    "\n",
    "def grafico_comparativo(dados_nutricao, lista_alimentos, atributo):\n",
    "    df = dados_nutricao.set_index('alimento')\n",
    "    df = df.loc[lista_alimentos]\n",
    "    \n",
    "    \n",
    "    #plt.figure(figsize = (8,6))\n",
    "    \n",
    "    figura, ax = plt.subplots()\n",
    "    ax = sns.barplot(data = df, x = df.index, y = atributo)\n",
    "    ax.set_title(f\"{atributo} por 100g de alimento cru\")\n",
    "    ax.set(xlabel=None)\n",
    "    \n",
    "           \n",
    "figura = grafico_comparativo(dados_nutricao,['salsão',dados_nutricao[\"alimento\"].values[5], 'tomate', 'tomate \\ncereja'], 'calorias (kcal)')"
   ]
  },
  {
   "cell_type": "markdown",
   "id": "21e8fcd0-e734-4749-a814-a91de260f069",
   "metadata": {},
   "source": [
    "# 4. Planilha CSA"
   ]
  },
  {
   "cell_type": "code",
   "execution_count": 7,
   "id": "3d84d9a3-b089-48f4-aaad-b39b28b0b6ba",
   "metadata": {
    "execution": {
     "iopub.execute_input": "2021-06-29T23:36:59.199630Z",
     "iopub.status.busy": "2021-06-29T23:36:59.198628Z",
     "iopub.status.idle": "2021-06-29T23:36:59.283849Z",
     "shell.execute_reply": "2021-06-29T23:36:59.283849Z",
     "shell.execute_reply.started": "2021-06-29T23:36:59.199630Z"
    },
    "tags": []
   },
   "outputs": [
    {
     "data": {
      "text/html": [
       "<div>\n",
       "<style scoped>\n",
       "    .dataframe tbody tr th:only-of-type {\n",
       "        vertical-align: middle;\n",
       "    }\n",
       "\n",
       "    .dataframe tbody tr th {\n",
       "        vertical-align: top;\n",
       "    }\n",
       "\n",
       "    .dataframe thead th {\n",
       "        text-align: right;\n",
       "    }\n",
       "</style>\n",
       "<table border=\"1\" class=\"dataframe\">\n",
       "  <thead>\n",
       "    <tr style=\"text-align: right;\">\n",
       "      <th></th>\n",
       "      <th>produto</th>\n",
       "      <th>na_terra</th>\n",
       "      <th>na_cesta</th>\n",
       "      <th>novos</th>\n",
       "    </tr>\n",
       "  </thead>\n",
       "  <tbody>\n",
       "    <tr>\n",
       "      <th>0</th>\n",
       "      <td>acerola</td>\n",
       "      <td>x</td>\n",
       "      <td>NaN</td>\n",
       "      <td>NaN</td>\n",
       "    </tr>\n",
       "    <tr>\n",
       "      <th>1</th>\n",
       "      <td>agrião</td>\n",
       "      <td>x</td>\n",
       "      <td>NaN</td>\n",
       "      <td>NaN</td>\n",
       "    </tr>\n",
       "    <tr>\n",
       "      <th>2</th>\n",
       "      <td>alecrim</td>\n",
       "      <td>x</td>\n",
       "      <td>NaN</td>\n",
       "      <td>NaN</td>\n",
       "    </tr>\n",
       "    <tr>\n",
       "      <th>3</th>\n",
       "      <td>alface americana</td>\n",
       "      <td>x</td>\n",
       "      <td>NaN</td>\n",
       "      <td>NaN</td>\n",
       "    </tr>\n",
       "    <tr>\n",
       "      <th>4</th>\n",
       "      <td>alface crespa</td>\n",
       "      <td>x</td>\n",
       "      <td>NaN</td>\n",
       "      <td>NaN</td>\n",
       "    </tr>\n",
       "  </tbody>\n",
       "</table>\n",
       "</div>"
      ],
      "text/plain": [
       "            produto na_terra  na_cesta novos\n",
       "0           acerola        x       NaN   NaN\n",
       "1            agrião        x       NaN   NaN\n",
       "2           alecrim        x       NaN   NaN\n",
       "3  alface americana        x       NaN   NaN\n",
       "4     alface crespa        x       NaN   NaN"
      ]
     },
     "execution_count": 7,
     "metadata": {},
     "output_type": "execute_result"
    }
   ],
   "source": [
    "# ordenado\n",
    "caminho_dados_csa = \"data/csa_pindorama.xlsx\"\n",
    "dados_csa = pd.read_excel(caminho_dados_csa, engine='openpyxl',sheet_name='produtos')\n",
    "dados_csa.head()"
   ]
  },
  {
   "cell_type": "code",
   "execution_count": 9,
   "id": "994bf39c-5c14-4f8c-9e58-08ba66375944",
   "metadata": {
    "execution": {
     "iopub.execute_input": "2021-06-29T23:37:16.503504Z",
     "iopub.status.busy": "2021-06-29T23:37:16.503504Z",
     "iopub.status.idle": "2021-06-29T23:37:16.517540Z",
     "shell.execute_reply": "2021-06-29T23:37:16.516537Z",
     "shell.execute_reply.started": "2021-06-29T23:37:16.503504Z"
    },
    "tags": []
   },
   "outputs": [
    {
     "data": {
      "text/html": [
       "<div>\n",
       "<style scoped>\n",
       "    .dataframe tbody tr th:only-of-type {\n",
       "        vertical-align: middle;\n",
       "    }\n",
       "\n",
       "    .dataframe tbody tr th {\n",
       "        vertical-align: top;\n",
       "    }\n",
       "\n",
       "    .dataframe thead th {\n",
       "        text-align: right;\n",
       "    }\n",
       "</style>\n",
       "<table border=\"1\" class=\"dataframe\">\n",
       "  <thead>\n",
       "    <tr style=\"text-align: right;\">\n",
       "      <th></th>\n",
       "      <th>produto</th>\n",
       "      <th>na_terra</th>\n",
       "      <th>na_cesta</th>\n",
       "      <th>novos</th>\n",
       "    </tr>\n",
       "  </thead>\n",
       "  <tbody>\n",
       "    <tr>\n",
       "      <th>0</th>\n",
       "      <td>acerola</td>\n",
       "      <td>x</td>\n",
       "      <td>NaN</td>\n",
       "      <td>NaN</td>\n",
       "    </tr>\n",
       "    <tr>\n",
       "      <th>1</th>\n",
       "      <td>agrião</td>\n",
       "      <td>x</td>\n",
       "      <td>NaN</td>\n",
       "      <td>NaN</td>\n",
       "    </tr>\n",
       "    <tr>\n",
       "      <th>2</th>\n",
       "      <td>alecrim</td>\n",
       "      <td>x</td>\n",
       "      <td>NaN</td>\n",
       "      <td>NaN</td>\n",
       "    </tr>\n",
       "    <tr>\n",
       "      <th>3</th>\n",
       "      <td>alface americana</td>\n",
       "      <td>x</td>\n",
       "      <td>NaN</td>\n",
       "      <td>NaN</td>\n",
       "    </tr>\n",
       "    <tr>\n",
       "      <th>4</th>\n",
       "      <td>alface crespa</td>\n",
       "      <td>x</td>\n",
       "      <td>NaN</td>\n",
       "      <td>NaN</td>\n",
       "    </tr>\n",
       "    <tr>\n",
       "      <th>...</th>\n",
       "      <td>...</td>\n",
       "      <td>...</td>\n",
       "      <td>...</td>\n",
       "      <td>...</td>\n",
       "    </tr>\n",
       "    <tr>\n",
       "      <th>58</th>\n",
       "      <td>rúcula</td>\n",
       "      <td>x</td>\n",
       "      <td>NaN</td>\n",
       "      <td>x</td>\n",
       "    </tr>\n",
       "    <tr>\n",
       "      <th>60</th>\n",
       "      <td>salsinha</td>\n",
       "      <td>x</td>\n",
       "      <td>NaN</td>\n",
       "      <td>x</td>\n",
       "    </tr>\n",
       "    <tr>\n",
       "      <th>59</th>\n",
       "      <td>salsão</td>\n",
       "      <td>x</td>\n",
       "      <td>NaN</td>\n",
       "      <td>NaN</td>\n",
       "    </tr>\n",
       "    <tr>\n",
       "      <th>61</th>\n",
       "      <td>tomate</td>\n",
       "      <td>NaN</td>\n",
       "      <td>NaN</td>\n",
       "      <td>NaN</td>\n",
       "    </tr>\n",
       "    <tr>\n",
       "      <th>62</th>\n",
       "      <td>tomate cereja/ tomatinho</td>\n",
       "      <td>x</td>\n",
       "      <td>NaN</td>\n",
       "      <td>NaN</td>\n",
       "    </tr>\n",
       "  </tbody>\n",
       "</table>\n",
       "<p>63 rows × 4 columns</p>\n",
       "</div>"
      ],
      "text/plain": [
       "                     produto na_terra  na_cesta novos\n",
       "0                    acerola        x       NaN   NaN\n",
       "1                     agrião        x       NaN   NaN\n",
       "2                    alecrim        x       NaN   NaN\n",
       "3           alface americana        x       NaN   NaN\n",
       "4              alface crespa        x       NaN   NaN\n",
       "..                       ...      ...       ...   ...\n",
       "58                    rúcula        x       NaN     x\n",
       "60                  salsinha        x       NaN     x\n",
       "59                    salsão        x       NaN   NaN\n",
       "61                    tomate      NaN       NaN   NaN\n",
       "62  tomate cereja/ tomatinho        x       NaN   NaN\n",
       "\n",
       "[63 rows x 4 columns]"
      ]
     },
     "execution_count": 9,
     "metadata": {},
     "output_type": "execute_result"
    }
   ],
   "source": [
    "# ordenado\n",
    "dados_csa.sort_values(by='produto')"
   ]
  },
  {
   "cell_type": "code",
   "execution_count": 10,
   "id": "7631587b-e354-45f7-a4ff-44a485711e84",
   "metadata": {
    "execution": {
     "iopub.execute_input": "2021-06-29T23:37:19.793034Z",
     "iopub.status.busy": "2021-06-29T23:37:19.793034Z",
     "iopub.status.idle": "2021-06-29T23:37:19.809076Z",
     "shell.execute_reply": "2021-06-29T23:37:19.809076Z",
     "shell.execute_reply.started": "2021-06-29T23:37:19.793034Z"
    },
    "tags": []
   },
   "outputs": [
    {
     "data": {
      "text/html": [
       "<div>\n",
       "<style scoped>\n",
       "    .dataframe tbody tr th:only-of-type {\n",
       "        vertical-align: middle;\n",
       "    }\n",
       "\n",
       "    .dataframe tbody tr th {\n",
       "        vertical-align: top;\n",
       "    }\n",
       "\n",
       "    .dataframe thead th {\n",
       "        text-align: right;\n",
       "    }\n",
       "</style>\n",
       "<table border=\"1\" class=\"dataframe\">\n",
       "  <thead>\n",
       "    <tr style=\"text-align: right;\">\n",
       "      <th></th>\n",
       "      <th>tabela</th>\n",
       "    </tr>\n",
       "  </thead>\n",
       "  <tbody>\n",
       "    <tr>\n",
       "      <th></th>\n",
       "      <td>acerola</td>\n",
       "    </tr>\n",
       "    <tr>\n",
       "      <th></th>\n",
       "      <td>agrião</td>\n",
       "    </tr>\n",
       "    <tr>\n",
       "      <th></th>\n",
       "      <td>alecrim</td>\n",
       "    </tr>\n",
       "    <tr>\n",
       "      <th></th>\n",
       "      <td>alface americana</td>\n",
       "    </tr>\n",
       "    <tr>\n",
       "      <th></th>\n",
       "      <td>alface crespa</td>\n",
       "    </tr>\n",
       "    <tr>\n",
       "      <th>...</th>\n",
       "      <td>...</td>\n",
       "    </tr>\n",
       "    <tr>\n",
       "      <th></th>\n",
       "      <td>rúcula</td>\n",
       "    </tr>\n",
       "    <tr>\n",
       "      <th></th>\n",
       "      <td>salsão</td>\n",
       "    </tr>\n",
       "    <tr>\n",
       "      <th></th>\n",
       "      <td>salsinha</td>\n",
       "    </tr>\n",
       "    <tr>\n",
       "      <th></th>\n",
       "      <td>tomate</td>\n",
       "    </tr>\n",
       "    <tr>\n",
       "      <th></th>\n",
       "      <td>tomate cereja/ tomatinho</td>\n",
       "    </tr>\n",
       "  </tbody>\n",
       "</table>\n",
       "<p>63 rows × 1 columns</p>\n",
       "</div>"
      ],
      "text/plain": [
       "                      tabela\n",
       "                     acerola\n",
       "                      agrião\n",
       "                     alecrim\n",
       "            alface americana\n",
       "               alface crespa\n",
       "..                       ...\n",
       "                      rúcula\n",
       "                      salsão\n",
       "                    salsinha\n",
       "                      tomate\n",
       "    tomate cereja/ tomatinho\n",
       "\n",
       "[63 rows x 1 columns]"
      ]
     },
     "execution_count": 10,
     "metadata": {},
     "output_type": "execute_result"
    }
   ],
   "source": [
    "df = dados_csa.copy()\n",
    "df.index = [\" \"] * len(df)\n",
    "df.loc[:,'na_terra'] = \" \"\n",
    "df.loc[:,'na_cesta'] = \" \"\n",
    "df.rename({'produto':'tabela','na_terra': '   ', 'na_cesta':' '}, axis='columns', inplace=True)\n",
    "df[['tabela']]"
   ]
  },
  {
   "cell_type": "markdown",
   "id": "2e974de0-c36a-4c09-8713-f288c16f5358",
   "metadata": {},
   "source": [
    "# 5. Testes de manipulação de strings"
   ]
  },
  {
   "cell_type": "code",
   "execution_count": 54,
   "id": "3706f04e-8707-42a7-ae52-5cf262401e49",
   "metadata": {
    "execution": {
     "iopub.execute_input": "2021-05-26T13:08:36.897000Z",
     "iopub.status.busy": "2021-05-26T13:08:36.896000Z",
     "iopub.status.idle": "2021-05-26T13:08:36.902000Z",
     "shell.execute_reply": "2021-05-26T13:08:36.901000Z",
     "shell.execute_reply.started": "2021-05-26T13:08:36.897000Z"
    },
    "tags": []
   },
   "outputs": [
    {
     "data": {
      "text/plain": [
       "'tomate \\ncereja'"
      ]
     },
     "execution_count": 54,
     "metadata": {},
     "output_type": "execute_result"
    }
   ],
   "source": [
    "dados_nutricao[\"alimento\"].values[-1]"
   ]
  },
  {
   "cell_type": "code",
   "execution_count": 15,
   "id": "1a84dcc7-8241-4365-95c9-1c87643d5d37",
   "metadata": {
    "execution": {
     "iopub.execute_input": "2021-06-29T23:39:18.616173Z",
     "iopub.status.busy": "2021-06-29T23:39:18.615171Z",
     "iopub.status.idle": "2021-06-29T23:39:18.621186Z",
     "shell.execute_reply": "2021-06-29T23:39:18.620184Z",
     "shell.execute_reply.started": "2021-06-29T23:39:18.616173Z"
    },
    "tags": []
   },
   "outputs": [],
   "source": [
    "Lst = ['You can never understand one language until you understand at least two.',\n",
    "       'Language is the blood of the soul into which thoughts run and out of which they grow.']\n",
    "InsertNewlines = lambda lst, n=2: '\\n'.join([' '.join(lst[i:i + n]) for i in range(0, len(lst), n)]) # n=words to keep together\n",
    "out = [InsertNewlines(s.split()) for s in Lst]"
   ]
  },
  {
   "cell_type": "code",
   "execution_count": 16,
   "id": "de2e51e4-18ea-49d8-be98-093ffc54d0e2",
   "metadata": {
    "execution": {
     "iopub.execute_input": "2021-06-29T23:39:23.675293Z",
     "iopub.status.busy": "2021-06-29T23:39:23.675293Z",
     "iopub.status.idle": "2021-06-29T23:39:23.683314Z",
     "shell.execute_reply": "2021-06-29T23:39:23.682311Z",
     "shell.execute_reply.started": "2021-06-29T23:39:23.675293Z"
    },
    "tags": []
   },
   "outputs": [
    {
     "name": "stdout",
     "output_type": "stream",
     "text": [
      "['You can\\nnever understand\\none language\\nuntil you\\nunderstand at\\nleast two.', 'Language is\\nthe blood\\nof the\\nsoul into\\nwhich thoughts\\nrun and\\nout of\\nwhich they\\ngrow.']\n"
     ]
    }
   ],
   "source": [
    "print(out)"
   ]
  },
  {
   "cell_type": "markdown",
   "id": "bddb12cc-190e-4796-a2a7-16d51e7e4764",
   "metadata": {},
   "source": [
    "# 6. Testes do histórico"
   ]
  },
  {
   "cell_type": "code",
   "execution_count": null,
   "id": "226baa17-aed5-4436-9f91-5ebda6b12693",
   "metadata": {},
   "outputs": [],
   "source": []
  },
  {
   "cell_type": "markdown",
   "id": "7c46291a-fba9-4d81-960d-ae65876a345a",
   "metadata": {},
   "source": [
    "# 7. Melhor visualização da cesta"
   ]
  },
  {
   "cell_type": "code",
   "execution_count": null,
   "id": "56dfe8b7-dce4-44f1-9654-dc894928f09a",
   "metadata": {},
   "outputs": [],
   "source": [
    "def na_cesta_extenso(df,label):\n",
    "    print(\"rótulo\")\n",
    "    for item in df\n",
    "    st.markdown(\"**:green_salad:** <font size='6' color='blue'> Informações disponíveis até 5ª-feira </font>\", unsafe_allow_html=True)\n",
    "    \n",
    "    "
   ]
  },
  {
   "cell_type": "code",
   "execution_count": 33,
   "id": "a35bcf59-34d8-4195-b317-689631058452",
   "metadata": {
    "execution": {
     "iopub.execute_input": "2021-06-30T00:34:45.263000Z",
     "iopub.status.busy": "2021-06-30T00:34:45.262000Z",
     "iopub.status.idle": "2021-06-30T00:34:45.343000Z",
     "shell.execute_reply": "2021-06-30T00:34:45.343000Z",
     "shell.execute_reply.started": "2021-06-30T00:34:45.262000Z"
    },
    "tags": []
   },
   "outputs": [
    {
     "name": "stdout",
     "output_type": "stream",
     "text": [
      "agrião\n",
      "beterraba\n",
      "brócolis\n",
      "hortelã\n"
     ]
    }
   ],
   "source": [
    "caminho_dados_csa = \"data/csa_pindorama.xlsx\"\n",
    "dados_busca_cesta = carrega_dados(caminho_dados_csa, 'produtos')\n",
    "na_cesta = dados_busca_cesta.query(\"na_cesta == 'x'\")\n",
    "for item in na_cesta['produto'].sort_values:\n",
    "    print(item)\n",
    "#na_cesta_extenso(na_cesta, \"rótulo\")"
   ]
  },
  {
   "cell_type": "code",
   "execution_count": 37,
   "id": "96e50808-e620-43fe-a4d1-ec64bd4a0d9f",
   "metadata": {
    "execution": {
     "iopub.execute_input": "2021-06-30T00:35:32.488000Z",
     "iopub.status.busy": "2021-06-30T00:35:32.488000Z",
     "iopub.status.idle": "2021-06-30T00:35:32.494000Z",
     "shell.execute_reply": "2021-06-30T00:35:32.494000Z",
     "shell.execute_reply.started": "2021-06-30T00:35:32.488000Z"
    },
    "tags": []
   },
   "outputs": [
    {
     "data": {
      "text/plain": [
       "array(['agrião', 'beterraba', 'brócolis', 'hortelã'], dtype=object)"
      ]
     },
     "execution_count": 37,
     "metadata": {},
     "output_type": "execute_result"
    }
   ],
   "source": [
    "na_cesta['produto'].sort_values().values"
   ]
  },
  {
   "cell_type": "code",
   "execution_count": null,
   "id": "9bfc8a93-c21f-4e4c-ab62-907ba7ada569",
   "metadata": {},
   "outputs": [],
   "source": [
    " if st.checkbox(f\"Na cesta em {data}\",value=False):\n",
    "        st.image(\"src/na_cesta.jpg\",use_column_width=True)\n",
    "        na_cesta = dados_csa.query(\"na_cesta == 'x'\")\n",
    "        if na_cesta.shape[0] == 0:\n",
    "            st.markdown(\"**:green_salad:** <font size='6' color='blue'> Informações disponíveis até 5ª-feira </font>\", unsafe_allow_html=True)\n",
    "        else:\n",
    "            gera_tabela(na_cesta, f'--provável cesta em {data} (sujeito à adições)--')"
   ]
  }
 ],
 "metadata": {
  "kernelspec": {
   "display_name": "Python 3",
   "language": "python",
   "name": "python3"
  },
  "language_info": {
   "codemirror_mode": {
    "name": "ipython",
    "version": 3
   },
   "file_extension": ".py",
   "mimetype": "text/x-python",
   "name": "python",
   "nbconvert_exporter": "python",
   "pygments_lexer": "ipython3",
   "version": "3.8.5"
  },
  "toc-autonumbering": false,
  "toc-showmarkdowntxt": false
 },
 "nbformat": 4,
 "nbformat_minor": 5
}
